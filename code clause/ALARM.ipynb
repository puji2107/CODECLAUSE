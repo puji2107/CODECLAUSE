{
 "cells": [
  {
   "cell_type": "code",
   "execution_count": 23,
   "id": "b7e76d0c-8323-4eab-80ca-110bf7cea8ad",
   "metadata": {},
   "outputs": [],
   "source": [
    "from tkinter import * \n",
    "import datetime \n",
    "import time \n",
    "import winsound"
   ]
  },
  {
   "cell_type": "code",
   "execution_count": 24,
   "id": "3a5deb75-4f3d-4c5a-9f07-66c6f0c52201",
   "metadata": {},
   "outputs": [],
   "source": [
    "def alarm(set_alarm_timer):\n",
    "  while True:\n",
    "    time.sleep(1)\n",
    "    current_time = datetime.datetime.now()\n",
    "    now = current_time.strftime(\"%H:%M:%S\")\n",
    "    date = current_time.strftime (\"%d/%m/%Y\")\n",
    "    print(\"The Set Date is:\",date)\n",
    "    print(now)\n",
    "    if now == set_alarm_timer:\n",
    "      print(\"Time to Wake up\")\n",
    "    winsound.PlaySound(\"alarm.wav\", winsound.SND_ASYNC) \n",
    "    break"
   ]
  },
  {
   "cell_type": "code",
   "execution_count": 25,
   "id": "37bf7648-244c-4cac-9c4f-baf972fd492a",
   "metadata": {},
   "outputs": [],
   "source": [
    "def actual_time():\n",
    "  set_alarm_timer = f\"{hour.get()}:{min.get()}:{sec.get()}\"\n",
    "  alarm(set_alarm_timer)"
   ]
  },
  {
   "cell_type": "code",
   "execution_count": 26,
   "id": "3e6a9625-77a3-4486-8af7-cb286b1231b8",
   "metadata": {},
   "outputs": [],
   "source": [
    "clock = Tk()\n",
    "\n",
    "clock.title(\"The Alarm Clock \")\n",
    "clock. geometry (\"600x200\")\n",
    "time_format=Label(clock, text= \"Enter time in 24 hour format!\", fg=\"red\", bg=\"black\", font= \"Arial\").place(x=60, y=120)\n",
    "addTime = Label(clock,text = \"Hour Min Sec\",font=60).place(x=110)\n",
    "setYourAlarm = Label(clock,text = \"When to wake you up\",fg=\"blue\", relief = \"solid\", font=(\"Helevetica\", 7, \"bold\")).place(x=0, y=29)"
   ]
  },
  {
   "cell_type": "code",
   "execution_count": 27,
   "id": "5b968b5e-5f19-4976-a276-762f1b864ee7",
   "metadata": {},
   "outputs": [],
   "source": [
    "hour = StringVar()\n",
    "min = StringVar()\n",
    "sec = StringVar()"
   ]
  },
  {
   "cell_type": "code",
   "execution_count": 28,
   "id": "39675fc9-ea45-4b23-88db-b0528a678fe2",
   "metadata": {},
   "outputs": [],
   "source": [
    "hourTime = Entry(clock, textvariable = hour,bg = \"pink\", width = 15).place (x=110,y=30)\n",
    "minTime = Entry(clock, textvariable = min,bg = \"pink\",width = 15).place(x=150, y=30)\n",
    "sectime = Entry(clock, textvariable = sec,bg = \"pink\",width = 15).place(x=200,y=30)"
   ]
  },
  {
   "cell_type": "code",
   "execution_count": 29,
   "id": "e456796a-797e-485f-90bf-c3aa0e964e76",
   "metadata": {},
   "outputs": [
    {
     "name": "stdout",
     "output_type": "stream",
     "text": [
      "The Set Date is: 09/06/2023\n",
      "17:26:44\n"
     ]
    }
   ],
   "source": [
    "submit = Button(clock, text = \"Set Alarm\", fg=\"red\",width = 10, command = actual_time).place(x=110,y=70)\n",
    "\n",
    "clock.mainloop()"
   ]
  },
  {
   "cell_type": "code",
   "execution_count": null,
   "id": "5f132c84-4971-47a9-ac8e-14a7038dd97b",
   "metadata": {},
   "outputs": [],
   "source": []
  }
 ],
 "metadata": {
  "kernelspec": {
   "display_name": "Python 3 (ipykernel)",
   "language": "python",
   "name": "python3"
  },
  "language_info": {
   "codemirror_mode": {
    "name": "ipython",
    "version": 3
   },
   "file_extension": ".py",
   "mimetype": "text/x-python",
   "name": "python",
   "nbconvert_exporter": "python",
   "pygments_lexer": "ipython3",
   "version": "3.10.9"
  }
 },
 "nbformat": 4,
 "nbformat_minor": 5
}
